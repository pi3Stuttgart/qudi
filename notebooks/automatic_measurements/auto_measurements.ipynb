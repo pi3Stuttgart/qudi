{
 "cells": [
  {
   "cell_type": "code",
   "execution_count": 1,
   "metadata": {},
   "outputs": [],
   "source": [
    "from utils import delay, flip_powermirror, calibrate\n",
    "import json"
   ]
  },
  {
   "cell_type": "code",
   "execution_count": null,
   "metadata": {},
   "outputs": [],
   "source": [
    "save_folder0 = r\"I:\\data\\Vlad\\202-2\\C3-ref\\pillar_500nm\""
   ]
  },
  {
   "cell_type": "code",
   "execution_count": null,
   "metadata": {},
   "outputs": [],
   "source": [
    "with open(os.path.join(save_folder0, \"calibration.txt\"), 'r') as file:\n",
    "     calibration = json.load(file) # use `json.loads` to do the reverse"
   ]
  },
  {
   "cell_type": "code",
   "execution_count": null,
   "metadata": {},
   "outputs": [],
   "source": [
    "calibration = calibrate([180, 200, 230, 240, 250])\n",
    "# motor_pi3.moveToAbsolutePosition(motor=0, pos=310)"
   ]
  },
  {
   "cell_type": "code",
   "execution_count": null,
   "metadata": {},
   "outputs": [],
   "source": [
    "with open(os.path.join(save_folder0, \"calibration.txt\"), 'w') as file:\n",
    "     file.write(json.dumps(calibration)) # use `json.loads` to do the reverse"
   ]
  },
  {
   "cell_type": "code",
   "execution_count": null,
   "metadata": {},
   "outputs": [],
   "source": [
    "motor_pi3.moveToAbsolutePosition(motor=0, pos=200)"
   ]
  },
  {
   "cell_type": "code",
   "execution_count": null,
   "metadata": {},
   "outputs": [],
   "source": []
  },
  {
   "cell_type": "code",
   "execution_count": null,
   "metadata": {},
   "outputs": [],
   "source": [
    "list(calibration.keys())[-2]"
   ]
  },
  {
   "cell_type": "code",
   "execution_count": null,
   "metadata": {},
   "outputs": [],
   "source": [
    "calibration"
   ]
  },
  {
   "cell_type": "code",
   "execution_count": null,
   "metadata": {},
   "outputs": [],
   "source": [
    "optimizerlogic._max_offset_z = 1"
   ]
  },
  {
   "cell_type": "code",
   "execution_count": null,
   "metadata": {},
   "outputs": [],
   "source": [
    "optimizerlogic._max_offset_xy = 1"
   ]
  },
  {
   "cell_type": "code",
   "execution_count": null,
   "metadata": {},
   "outputs": [],
   "source": [
    "auto_measurement = Automatedmeasurement()"
   ]
  },
  {
   "cell_type": "code",
   "execution_count": null,
   "metadata": {
    "scrolled": false
   },
   "outputs": [],
   "source": [
    "auto_measurements = None"
   ]
  },
  {
   "cell_type": "code",
   "execution_count": null,
   "metadata": {},
   "outputs": [],
   "source": [
    "motor_pi3.moveToAbsolutePosition(motor=0, pos=int(340))"
   ]
  },
  {
   "cell_type": "code",
   "execution_count": null,
   "metadata": {},
   "outputs": [],
   "source": [
    "ppois  = scannerlogic.pois[20:-1]"
   ]
  },
  {
   "cell_type": "code",
   "execution_count": null,
   "metadata": {},
   "outputs": [],
   "source": [
    "ello_flip.move_pos_1()"
   ]
  },
  {
   "cell_type": "code",
   "execution_count": null,
   "metadata": {},
   "outputs": [],
   "source": [
    "confocal.sigStartOptimizer.emit(list(auto_measurements.current_poi_position), 'automat')"
   ]
  },
  {
   "cell_type": "code",
   "execution_count": null,
   "metadata": {},
   "outputs": [],
   "source": [
    "confocal.refocus_clicked()"
   ]
  },
  {
   "cell_type": "code",
   "execution_count": null,
   "metadata": {},
   "outputs": [],
   "source": []
  },
  {
   "cell_type": "code",
   "execution_count": null,
   "metadata": {},
   "outputs": [],
   "source": []
  },
  {
   "cell_type": "code",
   "execution_count": null,
   "metadata": {},
   "outputs": [],
   "source": [
    "spectrometer._mw.rec_single_spectrum_Action.trigger()"
   ]
  },
  {
   "cell_type": "code",
   "execution_count": null,
   "metadata": {},
   "outputs": [],
   "source": [
    "scannerlogic.pois"
   ]
  },
  {
   "cell_type": "code",
   "execution_count": null,
   "metadata": {},
   "outputs": [],
   "source": [
    "scannerlogic.pois = ppois"
   ]
  },
  {
   "cell_type": "code",
   "execution_count": null,
   "metadata": {},
   "outputs": [],
   "source": [
    "scannerlogic.pois = np.array([])"
   ]
  },
  {
   "cell_type": "code",
   "execution_count": null,
   "metadata": {},
   "outputs": [],
   "source": [
    "optimizerlogic._max_offset_xy = 1"
   ]
  },
  {
   "cell_type": "code",
   "execution_count": null,
   "metadata": {},
   "outputs": [],
   "source": []
  },
  {
   "cell_type": "code",
   "execution_count": null,
   "metadata": {},
   "outputs": [],
   "source": [
    "file = os.path.join(save_folder, '1_timetrace_n3000_360_.txt') "
   ]
  },
  {
   "cell_type": "code",
   "execution_count": null,
   "metadata": {},
   "outputs": [],
   "source": [
    "fold = r'C:\\Data\\2022\\197_qudi\\ref\\doen_1'"
   ]
  },
  {
   "cell_type": "code",
   "execution_count": null,
   "metadata": {},
   "outputs": [],
   "source": [
    "spectras = [spec for spec in os.listdir(fold) if 'spectrum' in spec and '615LP' in spec and '.dat' in spec]"
   ]
  },
  {
   "cell_type": "code",
   "execution_count": null,
   "metadata": {},
   "outputs": [],
   "source": [
    "# countrate = np.genfromtxt(os.path.join(fold, '2_timetrace_n3000_360_.txt'))"
   ]
  },
  {
   "cell_type": "code",
   "execution_count": null,
   "metadata": {},
   "outputs": [],
   "source": [
    "spectras"
   ]
  },
  {
   "cell_type": "code",
   "execution_count": null,
   "metadata": {},
   "outputs": [],
   "source": [
    "import os"
   ]
  },
  {
   "cell_type": "code",
   "execution_count": null,
   "metadata": {},
   "outputs": [],
   "source": [
    "spectra_datas = np.array([])\n",
    "lam = np.genfromtxt(os.path.join(fold, spectras[0]))[:,0]\n",
    "signal_bg = np.genfromtxt(os.path.join(fold, spectras[0]))[:,2]\n",
    "for spec in spectras:\n",
    "    lam = np.genfromtxt(os.path.join(fold, spec))[:,0]\n",
    "    signal = np.genfromtxt(os.path.join(fold, spec))[:,2]\n",
    "    \n",
    "    spectra_datas = np.concatenate((spectra_datas, signal - signal_bg))\n",
    "spectra_datas_nd = spectra_datas.reshape(len(spectras), signal_bg.shape[0])"
   ]
  },
  {
   "cell_type": "code",
   "execution_count": null,
   "metadata": {
    "scrolled": true
   },
   "outputs": [],
   "source": [
    "plt.plot(lam, spectra_datas_nd[25])\n",
    "plt.show()"
   ]
  },
  {
   "cell_type": "code",
   "execution_count": null,
   "metadata": {},
   "outputs": [],
   "source": []
  },
  {
   "cell_type": "code",
   "execution_count": null,
   "metadata": {},
   "outputs": [],
   "source": [
    "spectra_datas_nd[0]"
   ]
  },
  {
   "cell_type": "code",
   "execution_count": null,
   "metadata": {},
   "outputs": [],
   "source": [
    "from matplotlib import pyplot as plt"
   ]
  },
  {
   "cell_type": "code",
   "execution_count": null,
   "metadata": {},
   "outputs": [],
   "source": [
    "plt.plot(countrate[countrate > 0])\n",
    "plt.show()"
   ]
  },
  {
   "cell_type": "code",
   "execution_count": null,
   "metadata": {},
   "outputs": [],
   "source": [
    "plt.plot(lam, signal - signal_bg)\n",
    "plt.show()"
   ]
  },
  {
   "cell_type": "code",
   "execution_count": null,
   "metadata": {},
   "outputs": [],
   "source": [
    "spectras[1:]"
   ]
  },
  {
   "cell_type": "markdown",
   "metadata": {},
   "source": [
    "## Spectra map"
   ]
  },
  {
   "cell_type": "code",
   "execution_count": null,
   "metadata": {},
   "outputs": [],
   "source": [
    "folder = r'C:\\Data\\2021\\09'\n",
    "\n",
    "os.chdir(folder)\n",
    "\n",
    "os.chdir(r'20210911')\n",
    "specs = [cf for cf in os.listdir(r'spectra') if '.dat' in cf][4:]\n",
    "spec_times = [cf.split('-')[1] for cf in os.listdir(r'spectra') if '.dat' in cf]"
   ]
  },
  {
   "cell_type": "code",
   "execution_count": null,
   "metadata": {},
   "outputs": [],
   "source": [
    "scan_num = 0\n",
    "spectrum_range = [580, 720]\n",
    "scan_map = np.array([])\n",
    "for idx, scan in enumerate(specs):\n",
    "    scan_num += 1\n",
    "    spec = np.genfromtxt(os.path.join('spectra', scan), dtype = SPEC_TYPE)\n",
    "    spec = spec[(spec['wl'] > spectrum_range[0]) & (spec['wl'] < spectrum_range[1])]\n",
    "    scan_map = np.concatenate((scan_map, spec['crr']))\n",
    "scan_map_r = scan_map.reshape((scan_num, spec['crr'].shape[0]))\n",
    "\n",
    "fig, ax = plt.subplots(1, figsize=(10, 5))\n",
    "ax.imshow(scan_map_r, \n",
    "          aspect='auto', \n",
    "          extent=[spec['wl'][0], spec['wl'][-1],scan_map_r.shape[0], 0])\n",
    "ax.xaxis.set_major_locator(ticker.MultipleLocator(10))\n",
    "ax.xaxis.set_minor_locator(ticker.MultipleLocator(5))\n",
    "ax.set_xlabel(r'$\\lambda$, nm')\n",
    "ax.set_ylabel(r'defect #')\n",
    "ax.grid(None)\n",
    "plt.title('SnV Reference')"
   ]
  }
 ],
 "metadata": {
  "interpreter": {
   "hash": "24376575540cc6f77ede27b6a91ffaa02781c6761cff97c454d47f7f37a98653"
  },
  "kernelspec": {
   "display_name": "Qudi",
   "language": "python",
   "name": "python3"
  },
  "language_info": {
   "codemirror_mode": {
    "name": "ipython",
    "version": 3
   },
   "file_extension": ".py",
   "mimetype": "text/x-python",
   "name": "python",
   "nbconvert_exporter": "python",
   "pygments_lexer": "ipython3",
   "version": "3.6.5"
  }
 },
 "nbformat": 4,
 "nbformat_minor": 2
}
