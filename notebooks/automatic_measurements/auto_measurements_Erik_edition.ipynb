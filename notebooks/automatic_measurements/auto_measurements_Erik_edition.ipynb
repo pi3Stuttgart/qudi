{
 "cells": [
  {
   "cell_type": "code",
   "execution_count": 2,
   "metadata": {},
   "outputs": [],
   "source": [
    "from time import sleep\n",
    "import json\n",
    "import os\n",
    "\n",
    "def delay(delay_msec = 100):\n",
    "    dieTime = QtCore.QTime.currentTime().addMSecs(delay_msec)\n",
    "    while (QtCore.QTime.currentTime() < dieTime):\n",
    "        QtCore.QCoreApplication.processEvents(QtCore.QEventLoop.AllEvents, 100)\n",
    "def flip_powermirror():\n",
    "    pulser.set_channel_off(['ch5'])\n",
    "    pulser.set_channel_on(['ch5'])\n",
    "\n",
    "# flip_powermirror()\n",
    "\n",
    "# ello_flip.move_pos_1()\n",
    "\n",
    "# pulser.set_channel_on(['ch6'])\n",
    "\n",
    "# powermeter.get_power() * 1e6\n",
    "\n",
    "bin_width = int(1e12/50)\n",
    "n_vals = 300\n",
    "def calibrate(steps = [240, 280, 300, 320, 360]):\n",
    "    calibration = {}\n",
    "    for step in steps:\n",
    "        motor_pi3.moveToAbsolutePosition(motor=0, pos=step)\n",
    "        delay(3000)\n",
    "#         flip_powermirror()\n",
    "        delay(2000)\n",
    "        for i in range(2):\n",
    "            try:\n",
    "                pwr = powermeter.get_power() * 1e6\n",
    "            except:\n",
    "                pass\n",
    "            delay(200)\n",
    "#         flip_powermirror()\n",
    "        calibration.update({step:pwr})\n",
    "    return calibration\n",
    "\n",
    "\n",
    "import os\n",
    "import time\n",
    "import datetime\n",
    "from qtpy import QtCore\n",
    "import numpy as np\n",
    "from core.connector import Connector\n",
    "from core.configoption import ConfigOption\n",
    "from logic.generic_logic import GenericLogic\n",
    "\n",
    "\n",
    "class Automatedmeasurement(QtCore.QThread):\n",
    "    \"\"\" How to use this thing:\n",
    "        1. create pois with poimanager (Qudi)\n",
    "        2. create instance of class\n",
    "        3. specify steps with \"init_steps()\"\n",
    "        4. start with \"start()\"\n",
    "            4.1 stop with \"stop()\"\n",
    "        If pois have changed since class was initiated, update pois with \"init_pois()\"\n",
    "            \n",
    "        How to add new steps:\n",
    "        1. write function that starts what you want to do (e.g. take a spectrum)\n",
    "        2. add it to the func_dict in __init__()\n",
    "        3. look for the signal that gets emitted once the step is done or create it yourself\n",
    "        4. connect it to _next_step() in __init__()\n",
    "    \"\"\"\n",
    "    # declare connectors\n",
    "#     scannerlogic = Connector(interface='ConfocalLogic')\n",
    "#     spectrumlogic = Connector(interface='SpectrumLogic')\n",
    "#     optimizerlogic = Connector(interface = 'OptimizerLogic')\n",
    "#     nicard = Connector(interface='NationalInstrumentsXSeries', optional=True)\n",
    "#     ello_flipp = Connector(interface='ThorlabsElloFlipper', optional=True)\n",
    "#     steps = ConfigOption('steps', missing='warn')\n",
    "    # internal signals\n",
    "\n",
    "    sigNextPoi = QtCore.Signal()\n",
    "    sigNextStep = QtCore.Signal()\n",
    "    sigStepDone = QtCore.Signal()\n",
    "    abort = False\n",
    "    steps = ['move', 'optimize', 'spectrum', 'time_trace']\n",
    "    steps_bg = ['move', 'spectrum', 'time_trace']\n",
    "    def __init__(self):\n",
    "        super().__init__()\n",
    "        self.func_dict = {\n",
    "            'move' : self.move_to_poi,\n",
    "            'optimize' : self.optimize_on_poi,\n",
    "            'spectrum' : self.take_spectrum,\n",
    "            'time_trace' : self.measure_time_trace\n",
    "        }\n",
    "        self.on_activate()\n",
    "    def on_activate(self):\n",
    "        \"\"\" Initialisation performed during activation of the module.\n",
    "        \"\"\"\n",
    " \n",
    "        self._spectrumlogic = spectrumlogic\n",
    "        self._scannerlogic = scannerlogic\n",
    "        self._optimizerlogic = optimizerlogic\n",
    "        # self._poimanagerlogic = self.poimanagerlogic()\n",
    "        # self._save_logic = self.savelogic()\n",
    "#         self._ello_flipper = ello_flip\n",
    "#         if self.ello_devices():\n",
    "#             self._ello_rotor = self.ello_devices().ello_rotor\n",
    "        # self._cwave = self.cwavelaser()\n",
    "        # self.sig_cwave_shutter.connect(self._cwave.set_shutters_states)\n",
    "\n",
    "        # self._nicard = self.nicard()\n",
    "        self.save_folder = save_folder0\n",
    "        \n",
    "        ## signals\n",
    "        # connect internal signals\n",
    "        self.sigNextPoi.connect(self._next_poi, QtCore.Qt.QueuedConnection)\n",
    "        self.sigNextStep.connect(self._next_step,QtCore.Qt.QueuedConnection )\n",
    "        # connect signals that mark the completion of one step\n",
    "        self.sigStepDone.connect(self._next_step,QtCore.Qt.QueuedConnection )\n",
    "        spectrumlogic.sig_specdata_taken.connect(self.save_spectra, QtCore.Qt.QueuedConnection)\n",
    "        #spectrumlogic.sig_specdata_updated.connect(self._next_step)\n",
    "        \n",
    "        self._optimizerlogic._sigFinishedAllOptimizationSteps.connect(self._next_step, QtCore.Qt.QueuedConnection)\n",
    "\n",
    "        ## initialisation of variables\n",
    "        self.angles_for_pol_dep_spec = np.linspace(0,360,3) # TODO: change num to 100\n",
    "    \n",
    "    def on_deactivate(self):\n",
    "        pass\n",
    "\n",
    "    def start(self):\n",
    "        \"\"\"Starts the measurements\"\"\"\n",
    "        self.abort = False\n",
    "        self.init_pois()\n",
    "        self.sigNextPoi.emit()\n",
    "        return\n",
    "    \n",
    "    \n",
    "    def stop(self):\n",
    "        \"\"\"Stops the program\"\"\"\n",
    "        self.abort = True\n",
    "        return\n",
    "    \n",
    "    \n",
    "    def init_pois(self,poi_names=None):\n",
    "        if poi_names==None:\n",
    "            self.poi_names = list((np.arange(len(self._scannerlogic.pois)) + 1).astype(str))#self._poimanagerlogic.poi_names\n",
    "        else:\n",
    "            self.poi_names = poi_names\n",
    "        # copy the names into an array that we can modify\n",
    "        self._poi_names = list(self.poi_names).copy() # shallow copy\n",
    "        pois = self._scannerlogic.pois\n",
    "        texts = (np.arange(len(self._scannerlogic.pois)) + 1).astype(str)\n",
    "        self.poi_positions = {t: pos for t, pos in zip(texts, pois)} #self._poimanagerlogic.poi_positions\n",
    "        return\n",
    "    \n",
    "    def init_steps(self,steps):\n",
    "        \"\"\"Stores the steps as class object.\"\"\"\n",
    "        keys = self.func_dict.keys()\n",
    "        if not set(steps).issubset(set(keys)):\n",
    "            raise Exception('The following steps are not listed in the func_dict: %s'% (list(set(steps) - set(keys))))\n",
    "        return\n",
    "    \n",
    "    @QtCore.Slot()\n",
    "    def _next_poi(self):\n",
    "        \"\"\"Iterates through the pois.\n",
    "        \n",
    "        Sets the next poi to be the active one and starts the measurements on this one.\"\"\"\n",
    "        print('poi')\n",
    "        # Stop program if finished or user wants to stop\n",
    "        if self.abort or (len(self._poi_names)==0):\n",
    "            print('Stopping(poi).')\n",
    "            print(self.abort,len(self._poi_names))\n",
    "            return\n",
    "        # Choose the first poi in the list, set it as the current one and delete it.\n",
    "        self._current_poi_name = self._poi_names.pop(0)\n",
    "        print('Current poi %s'%self._current_poi_name)\n",
    "        # updates the position of the current poi\n",
    "        self._current_poi_position = self.poi_positions[self._current_poi_name]\n",
    "        # copy the steps into an array that we can modify\n",
    "        if self._current_poi_name != '1':\n",
    "            self._steps = self.steps.copy() #shallow copy\n",
    "        else:\n",
    "            self._steps = self.steps_bg.copy()\n",
    "        print(self._steps)\n",
    "        # start the steps\n",
    "        self.sigNextStep.emit()\n",
    "        return\n",
    "    @QtCore.Slot()\n",
    "    def _next_step(self):\n",
    "        \"\"\"Iterates through the steps.\"\"\"\n",
    "        print('step')\n",
    "        if self.abort:\n",
    "            print('Stopping (step).')\n",
    "            return\n",
    "        if len(self._steps)==0:\n",
    "            # all steps for the current poi are done, go to next poi\n",
    "            self.sigNextPoi.emit()\n",
    "            return\n",
    "        # choose next step in list as current one and remove it\n",
    "        self._current_step = self._steps.pop(0)\n",
    "        print('Current step: %s'%self._current_step)\n",
    "        #run the step\n",
    "        self.func_dict[self._current_step]()\n",
    "        \n",
    "        #motor_pi3.moveToAbsolutePosition(motor=0, pos=310)\n",
    "        delay(1000)\n",
    "        return\n",
    "    \n",
    "    def move_to_poi(self,poi_name=None,rs=1000):\n",
    "        \"\"\"Moves to the current poi\"\"\"\n",
    "        print('move')\n",
    "        if poi_name==None:\n",
    "            poi_name = self._current_poi_name\n",
    "            poi_position = self._current_poi_position\n",
    "        else:\n",
    "            poi_position = self.poi_positions[poi_name]\n",
    "        if rs == None:\n",
    "            # get return slowness from confocal logic \n",
    "            rs = self._scannerlogic.return_slowness\n",
    "        print(poi_name)\n",
    "        # script will move to next line once position is reached\n",
    "\n",
    "        self._scannerlogic.go_to_position('scanner', x=poi_position[0],y=poi_position[1],z=poi_position[2], rs=rs)\n",
    "        self.current_poi_position = poi_position\n",
    "        # no signal is emitted once position is reached. \n",
    "        # We need to send one by ourself to keep consistency with the rest of the script.\n",
    "        \n",
    "        self.sigStepDone.emit()\n",
    "        return\n",
    "    \n",
    "    \n",
    "    def optimize_on_poi(self):\n",
    "        \"\"\"Tells optimizerlogic to start the refocus.\n",
    "        \n",
    "        On completion, a signal is emitted from optimizerlogic\n",
    "        \"\"\"\n",
    "        delay(200)\n",
    "        confocal.refocus_clicked() \n",
    "        return\n",
    "    \n",
    "    \n",
    "    def take_spectrum(self):\n",
    "        \"\"\"Tells spectrumlogic to start taking a spectrum.\n",
    "        \n",
    "        \"\"\"\n",
    "        delay(2000)\n",
    "        spectrometer._mw.rec_single_spectrum_Action.trigger()\n",
    "        return\n",
    "    @QtCore.Slot()\n",
    "    def save_spectra(self):\n",
    "        self._spectrumlogic.save_spectrum_data(filepath=self.save_folder, name_tag = self._current_poi_name + '_575LP_spectrum_inttime_' + str(5))\n",
    "        self.sigStepDone.emit()\n",
    "        \n",
    "        \n",
    "    def measure_time_trace(self):\n",
    "#         tt_counter.set_up_correlation(bins_width = 200, n_values = 1000)\n",
    "        for step, power in calibration.items():\n",
    "            motor_pi3.moveToAbsolutePosition(motor=0, pos=int(step))\n",
    "            delay(2000)\n",
    "            count_params = {\n",
    "                \"channels\":[0, 1],\n",
    "                \"bins_width\": bin_width,\n",
    "                \"n_values\":n_vals\n",
    "                }\n",
    "            corr_params = {\n",
    "                \"channels\":[0, 1],\n",
    "                \"bins_width\": 500,\n",
    "                \"n_values\":1000\n",
    "                }\n",
    "            \n",
    "            timetagger.set_counter(count_params)\n",
    "            delay(2000)\n",
    "            counts = timetagger.countrate  * tt_counter._count_frequency\n",
    "            savelogic.save_array_as_text(counts, filename=self._current_poi_name + '_timetrace_n' + str(n_vals) + '_'+ str(step) + '_' + '.txt',filepath=self.save_folder)\n",
    "        #get correlation\n",
    "        motor_pi3.moveToAbsolutePosition(motor=0, pos=int(list(calibration.keys())[-1]))\n",
    "        delay(2000)\n",
    "        timetagger.set_correlation(corr_params)\n",
    "        delay(10000)\n",
    "        dt, corrs = timetagger.corr_data\n",
    "        corr_data = np.vstack((dt, corrs))\n",
    "        savelogic.save_array_as_text(corr_data, filename=self._current_poi_name + '_correlation_' + '_'+ str(list(calibration.keys())[-2]) + '_' + '.txt',filepath=self.save_folder)\n",
    "        self.sigStepDone.emit()\n",
    "        \n",
    "    def take_pol_dependent_spectrum(self):\n",
    "        \"\"\" Starts a polarization dependent spectrum measurement.\n",
    "\n",
    "        Tells the ello to rotate (the lambda/2 plate).\n",
    "        And then tells spectrumlogic to start taking a spectrum.\n",
    "        \"\"\"\n",
    "        print('pol dep spec')\n",
    "\n",
    "        angles = self.angles_for_pol_dep_spec\n",
    "\n",
    "        for angle in angles:\n",
    "            poi_name = self._current_poi_name\n",
    "            name_tag = poi_name + '_' + str(angle)\n",
    "            if self._ello_rotor is not None:\n",
    "                self._ello_rotor.move_abs(to_angle=angle)\n",
    "            self._spectrumlogic.get_single_spectrum()\n",
    "            self._spectrumlogic.save_spectrum_data(name_tag=name_tag)\n",
    "        self.sigStepDone.emit()\n",
    "        return"
   ]
  },
  {
   "cell_type": "code",
   "execution_count": 7,
   "metadata": {},
   "outputs": [],
   "source": [
    "# scannerlogic.pois = np.array([])"
   ]
  },
  {
   "cell_type": "code",
   "execution_count": 32,
   "metadata": {},
   "outputs": [],
   "source": [
    "save_folder0 = r\"I:\\data\\Vlad\\197\\charge_study_1500\\4p\\Pb_p_etched_40\\measurements\""
   ]
  },
  {
   "cell_type": "code",
   "execution_count": 10,
   "metadata": {},
   "outputs": [],
   "source": [
    "# with open(os.path.join(save_folder0, \"calibration.txt\"), 'r') as file:\n",
    "#      calibration = json.load(file) # use `json.loads` to do the reverse"
   ]
  },
  {
   "cell_type": "code",
   "execution_count": 4,
   "metadata": {},
   "outputs": [],
   "source": [
    "flip_powermirror()"
   ]
  },
  {
   "cell_type": "code",
   "execution_count": 9,
   "metadata": {},
   "outputs": [],
   "source": [
    "motor_pi3.moveToAbsolutePosition(motor=0, pos=300)"
   ]
  },
  {
   "cell_type": "code",
   "execution_count": 6,
   "metadata": {},
   "outputs": [
    {
     "data": {
      "text/plain": [
       "0.105723913"
      ]
     },
     "execution_count": 6,
     "metadata": {},
     "output_type": "execute_result"
    }
   ],
   "source": [
    "1e6 * powermeter.get_power()"
   ]
  },
  {
   "cell_type": "code",
   "execution_count": 3,
   "metadata": {},
   "outputs": [
    {
     "data": {
      "text/plain": [
       "{0: 0.0296166434, 3: 0.0291623081, 7: 0.029500881700000002, 10: 0.0296788834, 14: 0.029414994899999998, 18: 0.0296228677, 21: 0.029495904400000002, 25: 0.029178487200000002, 29: 0.029588015600000003, 32: 0.0296253582, 36: 0.0295544069, 40: 0.030236538600000005, 43: 0.0298979614, 47: 0.0294373983, 50: 0.0293826297, 54: 0.030245249900000003, 58: 0.0293502644, 61: 0.0295369809, 65: 0.0305078949, 69: 0.0295780573, 72: 0.029493413899999998, 76: 0.0303000185, 80: 0.0294299305, 83: 0.0294237061, 87: 0.030566401000000003, 90: 0.0296378069, 94: 0.0295780573, 98: 0.030459350599999997, 101: 0.0294013027, 105: 0.029372671399999998, 109: 0.0303224255, 112: 0.0295232887, 116: 0.029540714800000003, 120: 0.0304518792, 123: 0.0293378193, 127: 0.0293415532, 130: 0.0294784748, 134: 0.0292506854, 138: 0.029498391300000003, 141: 0.029489679999999997, 145: 0.029428687000000002, 149: 0.0293539983, 152: 0.0263877311, 156: 0.0263777729, 160: 0.0263192668, 163: 0.0265271431, 167: 0.0265445692, 170: 0.026529633599999998, 174: 0.0264810858, 178: 0.0263877311, 181: 0.0263528754, 185: 0.0263615902, 189: 0.0263155329, 192: 0.0265557745, 196: 0.0265420788, 200: 0.026579424900000002, 203: 0.0264325415, 207: 0.0264051572, 210: 0.0263267381, 214: 0.0263839972, 218: 0.0265072266, 221: 0.026579424900000002, 225: 0.026532124100000002, 229: 0.0265806683, 232: 0.026390218, 236: 0.026440009299999997, 240: 0.0263553659, 243: 0.026529633599999998, 247: 0.0266254787, 250: 0.0267312856, 254: 0.026730038600000002, 258: 0.0264673936, 261: 0.0264611693, 265: 0.026532124100000002, 269: 0.026635437, 272: 0.0267101221, 276: 0.0268209064, 280: 0.0269092872, 283: 0.0267823204, 287: 0.0269939306, 290: 0.0272491043, 294: 0.0273934972, 298: 0.0275304224, 301: 0.0275304224, 305: 0.0275080154, 309: 0.0274034555, 312: 0.0273349947, 316: 0.0272889373, 320: 0.027261553, 323: 0.027400968600000002, 327: 0.0274283529, 330: 0.0275316658, 334: 0.0274781407, 338: 0.0272179861, 341: 0.027311344300000002, 345: 0.0273673599, 349: 0.0274345773, 352: 0.0275030381, 356: 0.0274968137, 360: 0.0274532468}"
      ]
     },
     "execution_count": 3,
     "metadata": {},
     "output_type": "execute_result"
    }
   ],
   "source": [
    "calibration = calibrate(np.linspace(0, 360, 100).astype(int))\n",
    "# motor_pi3.moveToAbsolutePosition(motor=0, pos=310)\n",
    "calibration"
   ]
  },
  {
   "cell_type": "code",
   "execution_count": 26,
   "metadata": {},
   "outputs": [
    {
     "data": {
      "text/plain": [
       "{0: 240.241992, 3: 260.690023, 7: 281.55898299999996, 10: 307.04643000000004, 14: 382.026279, 18: 457.063114, 21: 503.989693, 25: 621.961779, 29: 788.5139780000001, 32: 940.184225, 36: 1191.75157, 40: 2448.2200399999997, 43: 2696.74067, 47: 2788.66873, 50: 2746.98739, 54: 2723.0060700000004, 58: 2588.82553, 61: 2567.12828, 65: 2512.88502, 69: 2534.01138, 72: 2554.56683, 76: 2539.14995, 80: 2544.28876, 83: 2649.34939, 87: 2595.67704, 90: 2504.89102, 94: 2542.57582, 98: 2552.28276, 101: 2460.35471, 105: 2467.20668, 109: 2496.32658, 112: 2472.91615, 116: 2437.51542, 120: 2516.3108899999997, 123: 2301.7383600000003, 127: 2196.13942, 130: 1875.69344, 134: 0.24624120000000002, 138: 0.265670565, 141: 0.286528461, 145: 0.309557947, 149: 0.33761614300000004, 152: 0.36710301300000003, 156: 0.390132499, 160: 0.41419056600000004, 163: 0.45076339499999996, 167: 0.490307798, 170: 0.520537526, 174: 0.58053979, 178: 0.642827956, 181: 0.655799852, 185: 0.685001055, 189: 0.753575193, 192: 0.857407656, 196: 0.894951995, 200: 0.957525913, 203: 0.918610056, 207: 0.96055453, 210: 0.949296975, 214: 1.0538153700000001, 218: 1.06947311, 221: 1.1375899500000002, 225: 1.22547897, 229: 1.33548326, 232: 1.4930893699999999, 236: 1.6568099, 240: 1.86161787, 243: 2.04413914, 247: 2.38392386, 250: 2.65525114, 254: 3.22148344, 258: 3.70389284, 261: 4.15950171, 265: 4.81126744, 269: 5.55940187, 272: 6.203755220000001, 276: 7.20164599, 280: 8.27994063, 283: 9.290375599999999, 287: 11.027849699999999, 290: 12.5372317, 294: 14.9869147, 298: 16.7312301, 301: 19.1826221, 305: 22.8012632, 309: 27.1037497, 312: 30.659786699999998, 316: 34.8994618, 320: 43.2466768, 323: 50.588543699999995, 327: 60.1479042, 330: 70.48281990000001, 334: 78.1349008, 338: 92.1350147, 341: 108.53644200000001, 345: 119.10691, 349: 127.35645600000001, 352: 162.93407, 356: 194.024993, 360: 238.110675}"
      ]
     },
     "execution_count": 26,
     "metadata": {},
     "output_type": "execute_result"
    }
   ],
   "source": [
    "calibration"
   ]
  },
  {
   "cell_type": "code",
   "execution_count": 91,
   "metadata": {},
   "outputs": [],
   "source": [
    "with open(os.path.join(save_folder0, \"calibration.txt\"), 'w') as file:\n",
    "     file.write(json.dumps(calibration)) # use `json.loads` to do the reverse"
   ]
  },
  {
   "cell_type": "code",
   "execution_count": 10,
   "metadata": {},
   "outputs": [],
   "source": [
    "motor_pi3.zeroMotor()"
   ]
  },
  {
   "cell_type": "code",
   "execution_count": 90,
   "metadata": {},
   "outputs": [],
   "source": [
    "motor_pi3.moveToAbsolutePosition(motor=0, pos=110)"
   ]
  },
  {
   "cell_type": "code",
   "execution_count": 93,
   "metadata": {},
   "outputs": [],
   "source": [
    "optimizerlogic._max_offset_z = 1"
   ]
  },
  {
   "cell_type": "code",
   "execution_count": 94,
   "metadata": {},
   "outputs": [],
   "source": [
    "optimizerlogic._max_offset_xy = 1"
   ]
  },
  {
   "cell_type": "code",
   "execution_count": 33,
   "metadata": {},
   "outputs": [],
   "source": [
    "auto_measurement = Automatedmeasurement()"
   ]
  },
  {
   "cell_type": "code",
   "execution_count": 34,
   "metadata": {},
   "outputs": [],
   "source": [
    "auto_measurement.steps = ['move', 'optimize', 'spectrum']\n",
    "auto_measurement.steps_bg = ['move', 'spectrum']"
   ]
  },
  {
   "cell_type": "code",
   "execution_count": 30,
   "metadata": {},
   "outputs": [],
   "source": [
    "auto_measurement.stop()"
   ]
  },
  {
   "cell_type": "code",
   "execution_count": 20,
   "metadata": {},
   "outputs": [],
   "source": [
    "scannerlogic.pois = np.array([])"
   ]
  },
  {
   "cell_type": "code",
   "execution_count": 31,
   "metadata": {
    "scrolled": false
   },
   "outputs": [],
   "source": [
    "auto_measurement = None"
   ]
  },
  {
   "cell_type": "code",
   "execution_count": 35,
   "metadata": {},
   "outputs": [],
   "source": [
    "auto_measurement.start()"
   ]
  },
  {
   "cell_type": "code",
   "execution_count": null,
   "metadata": {},
   "outputs": [],
   "source": [
    "file = os.path.join(save_folder, '1_timetrace_n3000_360_.txt') "
   ]
  },
  {
   "cell_type": "code",
   "execution_count": 15,
   "metadata": {},
   "outputs": [],
   "source": [
    "fold = r'I:\\data\\Vlad\\197\\1500\\cross pplus_etched before annealing'"
   ]
  },
  {
   "cell_type": "code",
   "execution_count": 36,
   "metadata": {},
   "outputs": [],
   "source": [
    "spectras = [spec for spec in os.listdir(save_folder0) if 'spectrum' in spec and '575LP' in spec and '.dat' in spec]"
   ]
  },
  {
   "cell_type": "code",
   "execution_count": 15,
   "metadata": {},
   "outputs": [],
   "source": [
    "# countrate = np.genfromtxt(os.path.join(fold, '2_timetrace_n3000_360_.txt'))"
   ]
  },
  {
   "cell_type": "code",
   "execution_count": 37,
   "metadata": {},
   "outputs": [],
   "source": [
    "import os"
   ]
  },
  {
   "cell_type": "code",
   "execution_count": 38,
   "metadata": {},
   "outputs": [],
   "source": [
    "from matplotlib import pyplot as plt"
   ]
  },
  {
   "cell_type": "code",
   "execution_count": 74,
   "metadata": {},
   "outputs": [],
   "source": [
    "spectra_datas = np.array([])\n",
    "lam = np.genfromtxt(os.path.join(save_folder0, spectras[0]))[:,0]\n",
    "signal_bg = np.genfromtxt(os.path.join(save_folder0, spectras[0]))[:,2]\n",
    "for spec in spectras:\n",
    "    lam = np.genfromtxt(os.path.join(save_folder0, spec))[:,0]\n",
    "    signal = np.genfromtxt(os.path.join(save_folder0, spec))[:,2]\n",
    "    \n",
    "    spectra_datas = np.concatenate((spectra_datas, signal - signal_bg))\n",
    "spectra_datas_nd = spectra_datas.reshape(len(spectras), signal_bg.shape[0])"
   ]
  },
  {
   "cell_type": "markdown",
   "metadata": {},
   "source": [
    "## Spectra map"
   ]
  },
  {
   "cell_type": "code",
   "execution_count": 39,
   "metadata": {},
   "outputs": [],
   "source": [
    "SPEC_TYPE=np.dtype([('wl',np.float),('crr',np.float)])"
   ]
  },
  {
   "cell_type": "code",
   "execution_count": 40,
   "metadata": {},
   "outputs": [],
   "source": [
    "from matplotlib import ticker"
   ]
  },
  {
   "cell_type": "code",
   "execution_count": 41,
   "metadata": {},
   "outputs": [],
   "source": [
    "scan_num = 0\n",
    "spectrum_range = [540, 720]\n",
    "scan_map = np.array([])\n",
    "for idx, scan in enumerate(spectras):\n",
    "    scan_num += 1\n",
    "    spec = np.genfromtxt(os.path.join(save_folder0, scan), dtype = SPEC_TYPE)\n",
    "    spec = spec[(spec['wl'] > spectrum_range[0]) & (spec['wl'] < spectrum_range[1])]\n",
    "    scan_map = np.concatenate((scan_map, spec['crr']))\n",
    "scan_map_r = scan_map.reshape((scan_num, spec['crr'].shape[0]))\n",
    "\n",
    "fig, ax = plt.subplots(1, figsize=(10, 5))\n",
    "ax.imshow(scan_map_r, \n",
    "          aspect='auto', \n",
    "          extent=[spec['wl'][0], spec['wl'][-1],scan_map_r.shape[0], 0])\n",
    "ax.xaxis.set_major_locator(ticker.MultipleLocator(10))\n",
    "ax.xaxis.set_minor_locator(ticker.MultipleLocator(5))\n",
    "ax.set_xlabel(r'$\\lambda$, nm')\n",
    "ax.set_ylabel(r'defect #')\n",
    "ax.grid(None)\n",
    "plt.grid(None)\n",
    "plt.title('SnV Reference')\n",
    "plt.savefig(f\"{save_folder0}\\\\spectra_map.png\", dpi= 200)"
   ]
  },
  {
   "cell_type": "code",
   "execution_count": 42,
   "metadata": {},
   "outputs": [],
   "source": [
    "fig, ax = plt.subplots(1, figsize=(10, 5))\n",
    "ax.imshow(scan_map_r, \n",
    "          aspect='auto', \n",
    "          extent=[spec['wl'][0], spec['wl'][-1],scan_map_r.shape[0], 0])#, vmin=1000)\n",
    "ax.xaxis.set_major_locator(ticker.MultipleLocator(10))\n",
    "ax.xaxis.set_minor_locator(ticker.MultipleLocator(5))\n",
    "ax.set_xlabel(r'$\\lambda$, nm')\n",
    "ax.set_ylabel(r'defect #')\n",
    "plt.grid(None)\n",
    "ax.grid(None)\n",
    "plt.title('SnV Reference')\n",
    "plt.show()"
   ]
  },
  {
   "cell_type": "code",
   "execution_count": 43,
   "metadata": {},
   "outputs": [],
   "source": [
    "plt.plot(scan_map_r.sum(0))\n",
    "plt.show()"
   ]
  },
  {
   "cell_type": "code",
   "execution_count": 45,
   "metadata": {},
   "outputs": [],
   "source": [
    "plt.imshow(scan_map_r, \n",
    "          aspect='auto', \n",
    "          extent=[spec['wl'][0], spec['wl'][-1],scan_map_r.shape[0], 0])\n",
    "plt.show()"
   ]
  },
  {
   "cell_type": "code",
   "execution_count": 46,
   "metadata": {},
   "outputs": [],
   "source": [
    "from matplotlib import pyplot as plt"
   ]
  },
  {
   "cell_type": "code",
   "execution_count": null,
   "metadata": {},
   "outputs": [],
   "source": []
  }
 ],
 "metadata": {
  "kernelspec": {
   "display_name": "Qudi",
   "language": "python",
   "name": "qudi"
  },
  "language_info": {
   "codemirror_mode": {
    "name": "ipython",
    "version": "3.6.5"
   },
   "file_extension": ".py",
   "mimetype": "text/x-python",
   "name": "python",
   "nbconvert_exporter": "python",
   "pygments_lexer": "ipython3",
   "version": "3.6.5"
  }
 },
 "nbformat": 4,
 "nbformat_minor": 2
}
